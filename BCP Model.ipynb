{
 "cells": [
  {
   "cell_type": "markdown",
   "id": "6c79299b-eec9-41e6-a62f-edce17c80153",
   "metadata": {},
   "source": [
    "# Breast Cancer Classification System"
   ]
  },
  {
   "cell_type": "markdown",
   "id": "5e49bc04-bb7d-4a07-a6ae-f0de7e271049",
   "metadata": {},
   "source": [
    "# About the Dataset\n",
    "\n",
    "Features are computed from a digitized image of a fine needle aspirate (FNA) of a breast mass. They describe characteristics of the cell nuclei present in the image.\n",
    "\n",
    "This dataset is described in: \n",
    "- [K. P. Bennett and O. L. Mangasarian: \"Robust Linear Programming Discrimination of Two Linearly Inseparable Sets\", Optimization Methods and Software 1, 1992, 23-34].\n",
    "\n",
    "This database is also available through the UW CS ftp server:\n",
    "- ftp: `ftp.cs.wisc.edu`\n",
    "- path: `/math-prog/cpo-dataset/machine-learn/WDBC/`\n",
    "\n",
    "Additionally, it can be found on the UCI Machine Learning Repository:\n",
    "- [Breast Cancer Wisconsin (Diagnostic) Dataset](https://archive.ics.uci.edu/ml/datasets/Breast+Cancer+Wisconsin+%28Diagnostic%29)\n",
    "\n",
    "## Attribute Information\n",
    "\n",
    "1. **ID number**\n",
    "2. **Diagnosis**: (M = malignant, B = benign)\n",
    "3. **Features (3-32)**: Ten real-valued features are computed for each cell nucleus:\n",
    "   - a) **Radius**: Mean of distances from center to points on the perimeter\n",
    "   - b) **Texture**: Standard deviation of gray-scale values\n",
    "   - c) **Perimeter**\n",
    "   - d) **Area**\n",
    "   - e) **Smoothness**: Local variation in radius lengths\n",
    "   - f) **Compactness**: (perimeter^2 / area - 1.0)\n",
    "   - g) **Concavity**: Severity of concave portions of the contour\n",
    "   - h) **Concave points**: Number of concave portions of the contour\n",
    "   - i) **Symmetry**\n",
    "   - j) **Fractal dimension**: (\"coastline approximation\" - 1)\n",
    "\n",
    "The mean, standard error, and \"worst\" or largest (mean of the three largest values) of these features were computed for each image, resulting in 30 features. For example:\n",
    "- Field 3 is Mean Radius\n",
    "- Field 13 is Radius SE\n",
    "- Field 23 is Worst Radius\n",
    "\n",
    "All feature values are recorded with four significant digits.\n",
    "\n",
    "## Class Distribution\n",
    "- **Benign**: 357\n",
    "- **Malignant**: 212\n",
    "\n",
    "## Missing Attribute Values\n",
    "- None\n"
   ]
  },
  {
   "cell_type": "code",
   "execution_count": null,
   "id": "61c7d935-c2cc-4a4c-852e-19b86b443913",
   "metadata": {},
   "outputs": [],
   "source": []
  }
 ],
 "metadata": {
  "kernelspec": {
   "display_name": "Python 3 (ipykernel)",
   "language": "python",
   "name": "python3"
  },
  "language_info": {
   "codemirror_mode": {
    "name": "ipython",
    "version": 3
   },
   "file_extension": ".py",
   "mimetype": "text/x-python",
   "name": "python",
   "nbconvert_exporter": "python",
   "pygments_lexer": "ipython3",
   "version": "3.9.6"
  }
 },
 "nbformat": 4,
 "nbformat_minor": 5
}
